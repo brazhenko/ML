{
 "cells": [
  {
   "cell_type": "code",
   "execution_count": 3,
   "metadata": {
    "collapsed": true
   },
   "outputs": [],
   "source": [
    "#ну че, сейчас будем предсказывать, насколько нужны домишки людишкам, хыхыхы"
   ]
  },
  {
   "cell_type": "code",
   "execution_count": 4,
   "metadata": {
    "collapsed": true
   },
   "outputs": [],
   "source": [
    "#для начала нам стоит обработать данные. кажется, что их достаточно много))"
   ]
  },
  {
   "cell_type": "code",
   "execution_count": 5,
   "metadata": {
    "collapsed": true
   },
   "outputs": [],
   "source": [
    "import numpy as np\n",
    "import pandas as pd\n",
    "import matplotlib.pyplot as plt\n",
    "%matplotlib inline"
   ]
  },
  {
   "cell_type": "code",
   "execution_count": 6,
   "metadata": {
    "collapsed": true
   },
   "outputs": [],
   "source": [
    "from sklearn import metrics\n",
    "from sklearn.linear_model import LogisticRegression\n",
    "model = LogisticRegression()"
   ]
  },
  {
   "cell_type": "code",
   "execution_count": 82,
   "metadata": {
    "collapsed": true
   },
   "outputs": [],
   "source": [
    "from sklearn import preprocessing"
   ]
  },
  {
   "cell_type": "code",
   "execution_count": 180,
   "metadata": {
    "collapsed": false
   },
   "outputs": [],
   "source": [
    "#df = pd.read_csv('train.csv')\n",
    "df_test = pd.read_csv('test.csv')"
   ]
  },
  {
   "cell_type": "code",
   "execution_count": 181,
   "metadata": {
    "collapsed": false,
    "scrolled": true
   },
   "outputs": [
    {
     "data": {
      "text/html": [
       "<div>\n",
       "<table border=\"1\" class=\"dataframe\">\n",
       "  <thead>\n",
       "    <tr style=\"text-align: right;\">\n",
       "      <th></th>\n",
       "      <th>Id</th>\n",
       "      <th>bathrooms</th>\n",
       "      <th>bedrooms</th>\n",
       "      <th>building_id</th>\n",
       "      <th>created</th>\n",
       "      <th>display_address</th>\n",
       "      <th>features</th>\n",
       "      <th>latitude</th>\n",
       "      <th>listing_id</th>\n",
       "      <th>longitude</th>\n",
       "      <th>manager_id</th>\n",
       "      <th>photos</th>\n",
       "      <th>price</th>\n",
       "    </tr>\n",
       "  </thead>\n",
       "  <tbody>\n",
       "    <tr>\n",
       "      <th>0</th>\n",
       "      <td>25364</td>\n",
       "      <td>3.0</td>\n",
       "      <td>3</td>\n",
       "      <td>a36895b9975c6991ca0fa1d9a99023a1</td>\n",
       "      <td>2016-05-29 03:03:17</td>\n",
       "      <td>E 72nd St.</td>\n",
       "      <td>['Doorman', 'Elevator', 'Fitness Center', 'Lau...</td>\n",
       "      <td>40.7695</td>\n",
       "      <td>7082228</td>\n",
       "      <td>-73.9603</td>\n",
       "      <td>dd36b42e307fbd7c8f2d9607a52cb791</td>\n",
       "      <td>['https://photos.renthop.com/2/7082228_c5a663e...</td>\n",
       "      <td>7300</td>\n",
       "    </tr>\n",
       "    <tr>\n",
       "      <th>1</th>\n",
       "      <td>26511</td>\n",
       "      <td>1.0</td>\n",
       "      <td>2</td>\n",
       "      <td>ad67f6181a49bde19218929b401b31b7</td>\n",
       "      <td>2016-05-07 05:25:25</td>\n",
       "      <td>Wall Street</td>\n",
       "      <td>['Roof Deck', 'Doorman', 'Elevator', 'Pre-War'...</td>\n",
       "      <td>40.7067</td>\n",
       "      <td>6980308</td>\n",
       "      <td>-74.0101</td>\n",
       "      <td>2aa9bfa5f67ed9997ea341dee8a3a271</td>\n",
       "      <td>['https://photos.renthop.com/2/6980308_3d99327...</td>\n",
       "      <td>2650</td>\n",
       "    </tr>\n",
       "    <tr>\n",
       "      <th>2</th>\n",
       "      <td>27100</td>\n",
       "      <td>2.0</td>\n",
       "      <td>4</td>\n",
       "      <td>c892f07cbcb3bf5a06c12f0f725af6fa</td>\n",
       "      <td>2016-06-27 03:04:47</td>\n",
       "      <td>1st Ave</td>\n",
       "      <td>['Dishwasher', 'Hardwood Floors', 'No Fee', 'O...</td>\n",
       "      <td>40.7272</td>\n",
       "      <td>7221448</td>\n",
       "      <td>-73.9859</td>\n",
       "      <td>dbbb6b990661b1e507a387f019bcb1a0</td>\n",
       "      <td>['https://photos.renthop.com/2/7221448_9bc4b98...</td>\n",
       "      <td>6200</td>\n",
       "    </tr>\n",
       "    <tr>\n",
       "      <th>3</th>\n",
       "      <td>10404</td>\n",
       "      <td>1.0</td>\n",
       "      <td>3</td>\n",
       "      <td>8d83f6be6675419b19a6fc29a6ce6cee</td>\n",
       "      <td>2016-04-11 02:26:22</td>\n",
       "      <td>East 75th Street</td>\n",
       "      <td>['Laundry in Unit', 'Dishwasher', 'Hardwood Fl...</td>\n",
       "      <td>40.7701</td>\n",
       "      <td>6854758</td>\n",
       "      <td>-73.9550</td>\n",
       "      <td>f44a6215f74f901ac7e326207f2984f7</td>\n",
       "      <td>['https://photos.renthop.com/2/6854758_b6f0f2b...</td>\n",
       "      <td>4858</td>\n",
       "    </tr>\n",
       "    <tr>\n",
       "      <th>4</th>\n",
       "      <td>7654</td>\n",
       "      <td>1.0</td>\n",
       "      <td>1</td>\n",
       "      <td>f49ca2c8ca255a482d7ea03860ae7234</td>\n",
       "      <td>2016-04-14 03:39:47</td>\n",
       "      <td>Broadway</td>\n",
       "      <td>['Elevator', 'Pre-War', 'Laundry in Building',...</td>\n",
       "      <td>40.7878</td>\n",
       "      <td>6871682</td>\n",
       "      <td>-73.9763</td>\n",
       "      <td>35fc09b29adc23a8beed56f0aa3aaf37</td>\n",
       "      <td>['https://photos.renthop.com/2/6871682_8c82f95...</td>\n",
       "      <td>401</td>\n",
       "    </tr>\n",
       "  </tbody>\n",
       "</table>\n",
       "</div>"
      ],
      "text/plain": [
       "      Id  bathrooms  bedrooms                       building_id  \\\n",
       "0  25364        3.0         3  a36895b9975c6991ca0fa1d9a99023a1   \n",
       "1  26511        1.0         2  ad67f6181a49bde19218929b401b31b7   \n",
       "2  27100        2.0         4  c892f07cbcb3bf5a06c12f0f725af6fa   \n",
       "3  10404        1.0         3  8d83f6be6675419b19a6fc29a6ce6cee   \n",
       "4   7654        1.0         1  f49ca2c8ca255a482d7ea03860ae7234   \n",
       "\n",
       "               created   display_address  \\\n",
       "0  2016-05-29 03:03:17        E 72nd St.   \n",
       "1  2016-05-07 05:25:25       Wall Street   \n",
       "2  2016-06-27 03:04:47           1st Ave   \n",
       "3  2016-04-11 02:26:22  East 75th Street   \n",
       "4  2016-04-14 03:39:47          Broadway   \n",
       "\n",
       "                                            features  latitude  listing_id  \\\n",
       "0  ['Doorman', 'Elevator', 'Fitness Center', 'Lau...   40.7695     7082228   \n",
       "1  ['Roof Deck', 'Doorman', 'Elevator', 'Pre-War'...   40.7067     6980308   \n",
       "2  ['Dishwasher', 'Hardwood Floors', 'No Fee', 'O...   40.7272     7221448   \n",
       "3  ['Laundry in Unit', 'Dishwasher', 'Hardwood Fl...   40.7701     6854758   \n",
       "4  ['Elevator', 'Pre-War', 'Laundry in Building',...   40.7878     6871682   \n",
       "\n",
       "   longitude                        manager_id  \\\n",
       "0   -73.9603  dd36b42e307fbd7c8f2d9607a52cb791   \n",
       "1   -74.0101  2aa9bfa5f67ed9997ea341dee8a3a271   \n",
       "2   -73.9859  dbbb6b990661b1e507a387f019bcb1a0   \n",
       "3   -73.9550  f44a6215f74f901ac7e326207f2984f7   \n",
       "4   -73.9763  35fc09b29adc23a8beed56f0aa3aaf37   \n",
       "\n",
       "                                              photos  price  \n",
       "0  ['https://photos.renthop.com/2/7082228_c5a663e...   7300  \n",
       "1  ['https://photos.renthop.com/2/6980308_3d99327...   2650  \n",
       "2  ['https://photos.renthop.com/2/7221448_9bc4b98...   6200  \n",
       "3  ['https://photos.renthop.com/2/6854758_b6f0f2b...   4858  \n",
       "4  ['https://photos.renthop.com/2/6871682_8c82f95...    401  "
      ]
     },
     "execution_count": 181,
     "metadata": {},
     "output_type": "execute_result"
    }
   ],
   "source": [
    "df_test.head()"
   ]
  },
  {
   "cell_type": "code",
   "execution_count": 182,
   "metadata": {
    "collapsed": false
   },
   "outputs": [
    {
     "data": {
      "text/plain": [
       "12338"
      ]
     },
     "execution_count": 182,
     "metadata": {},
     "output_type": "execute_result"
    }
   ],
   "source": [
    "len(df_test)"
   ]
  },
  {
   "cell_type": "code",
   "execution_count": 5,
   "metadata": {
    "collapsed": false,
    "scrolled": true
   },
   "outputs": [],
   "source": [
    "df.created = df.created.apply(lambda x: list(map(int, (x.split()[0].split('-')))))"
   ]
  },
  {
   "cell_type": "code",
   "execution_count": 11,
   "metadata": {
    "collapsed": true
   },
   "outputs": [],
   "source": [
    "df.TARGET = df.TARGET.map({'low':0, 'medium':1, 'high':2})"
   ]
  },
  {
   "cell_type": "code",
   "execution_count": 15,
   "metadata": {
    "collapsed": true
   },
   "outputs": [],
   "source": [
    "df.bathrooms.fillna(value=1, inplace=1)\n",
    "df.features.fillna(value='[]',inplace=1)\n",
    "df.photos.fillna(value='[]',inplace=1)"
   ]
  },
  {
   "cell_type": "code",
   "execution_count": 26,
   "metadata": {
    "collapsed": false
   },
   "outputs": [],
   "source": [
    "def to_float(x):\n",
    "    try:\n",
    "        return float(x)\n",
    "    except Exception:\n",
    "        return 0"
   ]
  },
  {
   "cell_type": "code",
   "execution_count": 33,
   "metadata": {
    "collapsed": true
   },
   "outputs": [],
   "source": [
    "def feature_count(x):\n",
    "    return x.count(\"'\")"
   ]
  },
  {
   "cell_type": "code",
   "execution_count": 37,
   "metadata": {
    "collapsed": false
   },
   "outputs": [
    {
     "name": "stderr",
     "output_type": "stream",
     "text": [
      "/home/andrew/anaconda3/lib/python3.5/site-packages/pandas/core/generic.py:2701: SettingWithCopyWarning: \n",
      "A value is trying to be set on a copy of a slice from a DataFrame.\n",
      "Try using .loc[row_indexer,col_indexer] = value instead\n",
      "\n",
      "See the caveats in the documentation: http://pandas.pydata.org/pandas-docs/stable/indexing.html#indexing-view-versus-copy\n",
      "  self[name] = value\n"
     ]
    }
   ],
   "source": [
    "df.photos = df.photos.apply(feature_count)"
   ]
  },
  {
   "cell_type": "code",
   "execution_count": 27,
   "metadata": {
    "collapsed": true
   },
   "outputs": [],
   "source": [
    "df.longitude = df.longitude.apply(to_float)"
   ]
  },
  {
   "cell_type": "code",
   "execution_count": 28,
   "metadata": {
    "collapsed": true
   },
   "outputs": [],
   "source": [
    "df.latitude = df.latitude.apply(to_float)"
   ]
  },
  {
   "cell_type": "code",
   "execution_count": 30,
   "metadata": {
    "collapsed": true
   },
   "outputs": [],
   "source": [
    "df = df.dropna(subset=['TARGET'], how='all')"
   ]
  },
  {
   "cell_type": "code",
   "execution_count": null,
   "metadata": {
    "collapsed": true
   },
   "outputs": [],
   "source": []
  },
  {
   "cell_type": "code",
   "execution_count": 31,
   "metadata": {
    "collapsed": false
   },
   "outputs": [
    {
     "name": "stdout",
     "output_type": "stream",
     "text": [
      "bathrooms 0\n",
      "bedrooms 0\n",
      "building_id 0\n",
      "created 0\n",
      "display_address 98\n",
      "features 0\n",
      "latitude 0\n",
      "listing_id 0\n",
      "longitude 0\n",
      "manager_id 0\n",
      "photos 0\n",
      "price 0\n",
      "TARGET 0\n"
     ]
    }
   ],
   "source": [
    "for col in df.columns:\n",
    "    print(col, df[col].isnull().sum())"
   ]
  },
  {
   "cell_type": "code",
   "execution_count": 189,
   "metadata": {
    "collapsed": true
   },
   "outputs": [],
   "source": [
    "l = ['Id', 'bathrooms', 'bedrooms', \n",
    "       'features', 'latitude', 'longitude',\n",
    "       'photos', 'price']"
   ]
  },
  {
   "cell_type": "code",
   "execution_count": 75,
   "metadata": {
    "collapsed": false
   },
   "outputs": [
    {
     "name": "stderr",
     "output_type": "stream",
     "text": [
      "/home/andrew/anaconda3/lib/python3.5/site-packages/pandas/core/generic.py:2701: SettingWithCopyWarning: \n",
      "A value is trying to be set on a copy of a slice from a DataFrame.\n",
      "Try using .loc[row_indexer,col_indexer] = value instead\n",
      "\n",
      "See the caveats in the documentation: http://pandas.pydata.org/pandas-docs/stable/indexing.html#indexing-view-versus-copy\n",
      "  self[name] = value\n"
     ]
    }
   ],
   "source": [
    "df_new.price=df_new.price.apply(to_float)"
   ]
  },
  {
   "cell_type": "code",
   "execution_count": 86,
   "metadata": {
    "collapsed": false
   },
   "outputs": [
    {
     "data": {
      "text/html": [
       "<div>\n",
       "<table border=\"1\" class=\"dataframe\">\n",
       "  <thead>\n",
       "    <tr style=\"text-align: right;\">\n",
       "      <th></th>\n",
       "      <th>bathrooms</th>\n",
       "      <th>bedrooms</th>\n",
       "      <th>features</th>\n",
       "      <th>latitude</th>\n",
       "      <th>longitude</th>\n",
       "      <th>photos</th>\n",
       "      <th>price</th>\n",
       "      <th>TARGET</th>\n",
       "    </tr>\n",
       "  </thead>\n",
       "  <tbody>\n",
       "    <tr>\n",
       "      <th>0</th>\n",
       "      <td>-0.423030</td>\n",
       "      <td>-0.486896</td>\n",
       "      <td>-1.129527</td>\n",
       "      <td>0.182677</td>\n",
       "      <td>0.021794</td>\n",
       "      <td>-0.717493</td>\n",
       "      <td>-0.086646</td>\n",
       "      <td>1.0</td>\n",
       "    </tr>\n",
       "    <tr>\n",
       "      <th>1</th>\n",
       "      <td>3.563569</td>\n",
       "      <td>1.305610</td>\n",
       "      <td>0.397893</td>\n",
       "      <td>-0.005779</td>\n",
       "      <td>-0.031939</td>\n",
       "      <td>0.106122</td>\n",
       "      <td>0.402891</td>\n",
       "      <td>0.0</td>\n",
       "    </tr>\n",
       "    <tr>\n",
       "      <th>2</th>\n",
       "      <td>-0.423030</td>\n",
       "      <td>2.201863</td>\n",
       "      <td>-1.384097</td>\n",
       "      <td>-0.072143</td>\n",
       "      <td>0.030517</td>\n",
       "      <td>1.753351</td>\n",
       "      <td>-0.005056</td>\n",
       "      <td>0.0</td>\n",
       "    </tr>\n",
       "    <tr>\n",
       "      <th>3</th>\n",
       "      <td>-0.423030</td>\n",
       "      <td>0.409357</td>\n",
       "      <td>0.143323</td>\n",
       "      <td>-0.012764</td>\n",
       "      <td>-0.029933</td>\n",
       "      <td>0.655198</td>\n",
       "      <td>0.022804</td>\n",
       "      <td>1.0</td>\n",
       "    </tr>\n",
       "    <tr>\n",
       "      <th>4</th>\n",
       "      <td>-0.423030</td>\n",
       "      <td>0.409357</td>\n",
       "      <td>-1.384097</td>\n",
       "      <td>0.022641</td>\n",
       "      <td>-0.011615</td>\n",
       "      <td>0.655198</td>\n",
       "      <td>-0.042866</td>\n",
       "      <td>0.0</td>\n",
       "    </tr>\n",
       "  </tbody>\n",
       "</table>\n",
       "</div>"
      ],
      "text/plain": [
       "   bathrooms  bedrooms  features  latitude  longitude    photos     price  \\\n",
       "0  -0.423030 -0.486896 -1.129527  0.182677   0.021794 -0.717493 -0.086646   \n",
       "1   3.563569  1.305610  0.397893 -0.005779  -0.031939  0.106122  0.402891   \n",
       "2  -0.423030  2.201863 -1.384097 -0.072143   0.030517  1.753351 -0.005056   \n",
       "3  -0.423030  0.409357  0.143323 -0.012764  -0.029933  0.655198  0.022804   \n",
       "4  -0.423030  0.409357 -1.384097  0.022641  -0.011615  0.655198 -0.042866   \n",
       "\n",
       "   TARGET  \n",
       "0     1.0  \n",
       "1     0.0  \n",
       "2     0.0  \n",
       "3     1.0  \n",
       "4     0.0  "
      ]
     },
     "execution_count": 86,
     "metadata": {},
     "output_type": "execute_result"
    }
   ],
   "source": [
    "df_new.head()"
   ]
  },
  {
   "cell_type": "code",
   "execution_count": 85,
   "metadata": {
    "collapsed": false
   },
   "outputs": [
    {
     "name": "stderr",
     "output_type": "stream",
     "text": [
      "/home/andrew/anaconda3/lib/python3.5/site-packages/sklearn/utils/validation.py:590: DataConversionWarning: Data with input dtype int64 was converted to float64 by the scale function.\n",
      "  warnings.warn(msg, DataConversionWarning)\n",
      "/home/andrew/anaconda3/lib/python3.5/site-packages/sklearn/utils/validation.py:590: DataConversionWarning: Data with input dtype int64 was converted to float64 by the scale function.\n",
      "  warnings.warn(msg, DataConversionWarning)\n"
     ]
    }
   ],
   "source": [
    "for col in ['bathrooms', 'bedrooms', \n",
    "       'features', 'latitude', 'longitude',\n",
    "       'photos', 'price']:\n",
    "    df_new[col] = preprocessing.scale(df_new[col].reshape(-1,1))\n"
   ]
  },
  {
   "cell_type": "code",
   "execution_count": 378,
   "metadata": {
    "collapsed": true
   },
   "outputs": [],
   "source": [
    "from sklearn.tree import DecisionTreeClassifier\n",
    "from sklearn.svm import SVC"
   ]
  },
  {
   "cell_type": "code",
   "execution_count": 379,
   "metadata": {
    "collapsed": false
   },
   "outputs": [],
   "source": [
    "model = SVC(random_state=1)\n",
    "X = df_new[['bathrooms', 'bedrooms', \n",
    "       'features', 'latitude', 'longitude',\n",
    "       'photos', 'price']]\n",
    "y = df_new['TARGET']"
   ]
  },
  {
   "cell_type": "code",
   "execution_count": 365,
   "metadata": {
    "collapsed": true
   },
   "outputs": [],
   "source": [
    "train_X, val_X, train_y, val_y = train_test_split(X, y, random_state=2)"
   ]
  },
  {
   "cell_type": "code",
   "execution_count": 366,
   "metadata": {
    "collapsed": false
   },
   "outputs": [
    {
     "data": {
      "text/html": [
       "<div>\n",
       "<table border=\"1\" class=\"dataframe\">\n",
       "  <thead>\n",
       "    <tr style=\"text-align: right;\">\n",
       "      <th></th>\n",
       "      <th>bathrooms</th>\n",
       "      <th>bedrooms</th>\n",
       "      <th>features</th>\n",
       "      <th>latitude</th>\n",
       "      <th>longitude</th>\n",
       "      <th>photos</th>\n",
       "      <th>price</th>\n",
       "    </tr>\n",
       "  </thead>\n",
       "  <tbody>\n",
       "    <tr>\n",
       "      <th>0</th>\n",
       "      <td>-0.423030</td>\n",
       "      <td>-0.486896</td>\n",
       "      <td>-1.129527</td>\n",
       "      <td>0.182677</td>\n",
       "      <td>0.021794</td>\n",
       "      <td>-0.717493</td>\n",
       "      <td>-0.086646</td>\n",
       "    </tr>\n",
       "    <tr>\n",
       "      <th>1</th>\n",
       "      <td>3.563569</td>\n",
       "      <td>1.305610</td>\n",
       "      <td>0.397893</td>\n",
       "      <td>-0.005779</td>\n",
       "      <td>-0.031939</td>\n",
       "      <td>0.106122</td>\n",
       "      <td>0.402891</td>\n",
       "    </tr>\n",
       "    <tr>\n",
       "      <th>2</th>\n",
       "      <td>-0.423030</td>\n",
       "      <td>2.201863</td>\n",
       "      <td>-1.384097</td>\n",
       "      <td>-0.072143</td>\n",
       "      <td>0.030517</td>\n",
       "      <td>1.753351</td>\n",
       "      <td>-0.005056</td>\n",
       "    </tr>\n",
       "    <tr>\n",
       "      <th>3</th>\n",
       "      <td>-0.423030</td>\n",
       "      <td>0.409357</td>\n",
       "      <td>0.143323</td>\n",
       "      <td>-0.012764</td>\n",
       "      <td>-0.029933</td>\n",
       "      <td>0.655198</td>\n",
       "      <td>0.022804</td>\n",
       "    </tr>\n",
       "    <tr>\n",
       "      <th>4</th>\n",
       "      <td>-0.423030</td>\n",
       "      <td>0.409357</td>\n",
       "      <td>-1.384097</td>\n",
       "      <td>0.022641</td>\n",
       "      <td>-0.011615</td>\n",
       "      <td>0.655198</td>\n",
       "      <td>-0.042866</td>\n",
       "    </tr>\n",
       "  </tbody>\n",
       "</table>\n",
       "</div>"
      ],
      "text/plain": [
       "   bathrooms  bedrooms  features  latitude  longitude    photos     price\n",
       "0  -0.423030 -0.486896 -1.129527  0.182677   0.021794 -0.717493 -0.086646\n",
       "1   3.563569  1.305610  0.397893 -0.005779  -0.031939  0.106122  0.402891\n",
       "2  -0.423030  2.201863 -1.384097 -0.072143   0.030517  1.753351 -0.005056\n",
       "3  -0.423030  0.409357  0.143323 -0.012764  -0.029933  0.655198  0.022804\n",
       "4  -0.423030  0.409357 -1.384097  0.022641  -0.011615  0.655198 -0.042866"
      ]
     },
     "execution_count": 366,
     "metadata": {},
     "output_type": "execute_result"
    }
   ],
   "source": [
    "X.head()"
   ]
  },
  {
   "cell_type": "code",
   "execution_count": 380,
   "metadata": {
    "collapsed": false
   },
   "outputs": [
    {
     "data": {
      "text/plain": [
       "SVC(C=1.0, cache_size=200, class_weight=None, coef0=0.0,\n",
       "  decision_function_shape='ovr', degree=3, gamma='auto_deprecated',\n",
       "  kernel='rbf', max_iter=-1, probability=False, random_state=1,\n",
       "  shrinking=True, tol=0.001, verbose=False)"
      ]
     },
     "execution_count": 380,
     "metadata": {},
     "output_type": "execute_result"
    }
   ],
   "source": [
    "model.fit(X, y)"
   ]
  },
  {
   "cell_type": "code",
   "execution_count": 381,
   "metadata": {
    "collapsed": false
   },
   "outputs": [
    {
     "data": {
      "text/plain": [
       "0.6950653732602278"
      ]
     },
     "execution_count": 381,
     "metadata": {},
     "output_type": "execute_result"
    }
   ],
   "source": [
    "(model.predict(X)==y).sum()/len(X)"
   ]
  },
  {
   "cell_type": "code",
   "execution_count": 305,
   "metadata": {
    "collapsed": false
   },
   "outputs": [],
   "source": [
    "df_test_new = df_test[['Id', 'bathrooms', 'bedrooms', 'features', 'latitude', 'longitude',\n",
    "       'photos', 'price']]"
   ]
  },
  {
   "cell_type": "code",
   "execution_count": 314,
   "metadata": {
    "collapsed": false
   },
   "outputs": [
    {
     "name": "stderr",
     "output_type": "stream",
     "text": [
      "/home/andrew/anaconda3/lib/python3.5/site-packages/pandas/core/generic.py:2701: SettingWithCopyWarning: \n",
      "A value is trying to be set on a copy of a slice from a DataFrame.\n",
      "Try using .loc[row_indexer,col_indexer] = value instead\n",
      "\n",
      "See the caveats in the documentation: http://pandas.pydata.org/pandas-docs/stable/indexing.html#indexing-view-versus-copy\n",
      "  self[name] = value\n",
      "/home/andrew/anaconda3/lib/python3.5/site-packages/pandas/core/generic.py:2701: SettingWithCopyWarning: \n",
      "A value is trying to be set on a copy of a slice from a DataFrame.\n",
      "Try using .loc[row_indexer,col_indexer] = value instead\n",
      "\n",
      "See the caveats in the documentation: http://pandas.pydata.org/pandas-docs/stable/indexing.html#indexing-view-versus-copy\n",
      "  self[name] = value\n"
     ]
    }
   ],
   "source": [
    "df_test_new.latitude = preprocessing.scale(df_test_new.latitude.reshape(-1, 1))\n",
    "df_test_new.longitude = preprocessing.scale(df_test_new.longitude.reshape(-1, 1))"
   ]
  },
  {
   "cell_type": "code",
   "execution_count": 311,
   "metadata": {
    "collapsed": false,
    "scrolled": true
   },
   "outputs": [
    {
     "name": "stderr",
     "output_type": "stream",
     "text": [
      "/home/andrew/anaconda3/lib/python3.5/site-packages/pandas/core/generic.py:2701: SettingWithCopyWarning: \n",
      "A value is trying to be set on a copy of a slice from a DataFrame.\n",
      "Try using .loc[row_indexer,col_indexer] = value instead\n",
      "\n",
      "See the caveats in the documentation: http://pandas.pydata.org/pandas-docs/stable/indexing.html#indexing-view-versus-copy\n",
      "  self[name] = value\n",
      "/home/andrew/anaconda3/lib/python3.5/site-packages/sklearn/utils/validation.py:590: DataConversionWarning: Data with input dtype int64 was converted to float64 by the scale function.\n",
      "  warnings.warn(msg, DataConversionWarning)\n",
      "/home/andrew/anaconda3/lib/python3.5/site-packages/pandas/core/generic.py:2701: SettingWithCopyWarning: \n",
      "A value is trying to be set on a copy of a slice from a DataFrame.\n",
      "Try using .loc[row_indexer,col_indexer] = value instead\n",
      "\n",
      "See the caveats in the documentation: http://pandas.pydata.org/pandas-docs/stable/indexing.html#indexing-view-versus-copy\n",
      "  self[name] = value\n",
      "/home/andrew/anaconda3/lib/python3.5/site-packages/sklearn/utils/validation.py:590: DataConversionWarning: Data with input dtype int64 was converted to float64 by the scale function.\n",
      "  warnings.warn(msg, DataConversionWarning)\n",
      "/home/andrew/anaconda3/lib/python3.5/site-packages/pandas/core/generic.py:2701: SettingWithCopyWarning: \n",
      "A value is trying to be set on a copy of a slice from a DataFrame.\n",
      "Try using .loc[row_indexer,col_indexer] = value instead\n",
      "\n",
      "See the caveats in the documentation: http://pandas.pydata.org/pandas-docs/stable/indexing.html#indexing-view-versus-copy\n",
      "  self[name] = value\n",
      "/home/andrew/anaconda3/lib/python3.5/site-packages/sklearn/utils/validation.py:590: DataConversionWarning: Data with input dtype int64 was converted to float64 by the scale function.\n",
      "  warnings.warn(msg, DataConversionWarning)\n",
      "/home/andrew/anaconda3/lib/python3.5/site-packages/pandas/core/generic.py:2701: SettingWithCopyWarning: \n",
      "A value is trying to be set on a copy of a slice from a DataFrame.\n",
      "Try using .loc[row_indexer,col_indexer] = value instead\n",
      "\n",
      "See the caveats in the documentation: http://pandas.pydata.org/pandas-docs/stable/indexing.html#indexing-view-versus-copy\n",
      "  self[name] = value\n",
      "/home/andrew/anaconda3/lib/python3.5/site-packages/sklearn/utils/validation.py:590: DataConversionWarning: Data with input dtype int64 was converted to float64 by the scale function.\n",
      "  warnings.warn(msg, DataConversionWarning)\n",
      "/home/andrew/anaconda3/lib/python3.5/site-packages/pandas/core/generic.py:2701: SettingWithCopyWarning: \n",
      "A value is trying to be set on a copy of a slice from a DataFrame.\n",
      "Try using .loc[row_indexer,col_indexer] = value instead\n",
      "\n",
      "See the caveats in the documentation: http://pandas.pydata.org/pandas-docs/stable/indexing.html#indexing-view-versus-copy\n",
      "  self[name] = value\n"
     ]
    }
   ],
   "source": [
    "df_test_new.bathrooms = preprocessing.scale(df_test_new.bathrooms.reshape(-1, 1))\n",
    "df_test_new.bedrooms = preprocessing.scale(df_test_new.bedrooms.reshape(-1, 1))\n",
    "df_test_new.features = preprocessing.scale(df_test_new.features.reshape(-1, 1))\n",
    "df_test_new.photos = preprocessing.scale(df_test_new.photos.reshape(-1, 1))\n",
    "df_test_new.price = preprocessing.scale(df_test_new.price.reshape(-1, 1))"
   ]
  },
  {
   "cell_type": "code",
   "execution_count": 121,
   "metadata": {
    "collapsed": false,
    "scrolled": true
   },
   "outputs": [
    {
     "name": "stderr",
     "output_type": "stream",
     "text": [
      "/home/andrew/anaconda3/lib/python3.5/site-packages/pandas/core/generic.py:3191: SettingWithCopyWarning: \n",
      "A value is trying to be set on a copy of a slice from a DataFrame\n",
      "\n",
      "See the caveats in the documentation: http://pandas.pydata.org/pandas-docs/stable/indexing.html#indexing-view-versus-copy\n",
      "  self._update_inplace(new_data)\n",
      "/home/andrew/anaconda3/lib/python3.5/site-packages/pandas/core/generic.py:2701: SettingWithCopyWarning: \n",
      "A value is trying to be set on a copy of a slice from a DataFrame.\n",
      "Try using .loc[row_indexer,col_indexer] = value instead\n",
      "\n",
      "See the caveats in the documentation: http://pandas.pydata.org/pandas-docs/stable/indexing.html#indexing-view-versus-copy\n",
      "  self[name] = value\n"
     ]
    }
   ],
   "source": [
    "df_test_new.price.fillna(value=0, inplace=1)\n",
    "df_test_new.price = df_test_new.price.reshape(-1,1)"
   ]
  },
  {
   "cell_type": "code",
   "execution_count": 309,
   "metadata": {
    "collapsed": false
   },
   "outputs": [
    {
     "name": "stderr",
     "output_type": "stream",
     "text": [
      "/home/andrew/anaconda3/lib/python3.5/site-packages/pandas/core/generic.py:2701: SettingWithCopyWarning: \n",
      "A value is trying to be set on a copy of a slice from a DataFrame.\n",
      "Try using .loc[row_indexer,col_indexer] = value instead\n",
      "\n",
      "See the caveats in the documentation: http://pandas.pydata.org/pandas-docs/stable/indexing.html#indexing-view-versus-copy\n",
      "  self[name] = value\n"
     ]
    }
   ],
   "source": [
    "df_test_new.photos=df_test_new.photos.apply(feature_count)"
   ]
  },
  {
   "cell_type": "code",
   "execution_count": 382,
   "metadata": {
    "collapsed": false
   },
   "outputs": [],
   "source": [
    "a = (model.predict(df_test_new[['bathrooms', 'bedrooms', 'features', 'latitude', 'longitude',\n",
    "       'photos', 'price']]))"
   ]
  },
  {
   "cell_type": "code",
   "execution_count": 383,
   "metadata": {
    "collapsed": false
   },
   "outputs": [],
   "source": [
    "ans = pd.DataFrame(a, df_test_new.Id)"
   ]
  },
  {
   "cell_type": "code",
   "execution_count": 384,
   "metadata": {
    "collapsed": false
   },
   "outputs": [],
   "source": [
    "ans[0].map({0:'low', 1:'medium', 2:'high'}).to_csv('answer.csv')"
   ]
  },
  {
   "cell_type": "code",
   "execution_count": null,
   "metadata": {
    "collapsed": false
   },
   "outputs": [],
   "source": []
  },
  {
   "cell_type": "code",
   "execution_count": null,
   "metadata": {
    "collapsed": true
   },
   "outputs": [],
   "source": []
  },
  {
   "cell_type": "code",
   "execution_count": 320,
   "metadata": {
    "collapsed": false,
    "scrolled": false
   },
   "outputs": [],
   "source": [
    "pd.Series(a).map({0:'low', 1:'medium', 2:'high'}).to_csv('answer.csv')"
   ]
  },
  {
   "cell_type": "code",
   "execution_count": 116,
   "metadata": {
    "collapsed": false
   },
   "outputs": [
    {
     "data": {
      "text/html": [
       "<div>\n",
       "<table border=\"1\" class=\"dataframe\">\n",
       "  <thead>\n",
       "    <tr style=\"text-align: right;\">\n",
       "      <th></th>\n",
       "      <th>bathrooms</th>\n",
       "      <th>bedrooms</th>\n",
       "      <th>building_id</th>\n",
       "      <th>created</th>\n",
       "      <th>display_address</th>\n",
       "      <th>features</th>\n",
       "      <th>latitude</th>\n",
       "      <th>listing_id</th>\n",
       "      <th>longitude</th>\n",
       "      <th>manager_id</th>\n",
       "      <th>photos</th>\n",
       "      <th>price</th>\n",
       "      <th>TARGET</th>\n",
       "    </tr>\n",
       "  </thead>\n",
       "  <tbody>\n",
       "    <tr>\n",
       "      <th>0</th>\n",
       "      <td>1.0</td>\n",
       "      <td>1</td>\n",
       "      <td>86af7d101535dd99dbffd2fe1c2af319</td>\n",
       "      <td>[2016, 5, 26]</td>\n",
       "      <td>Wadsworth Terrace</td>\n",
       "      <td>['Pre-War']</td>\n",
       "      <td>40.8568</td>\n",
       "      <td>7067832.0</td>\n",
       "      <td>-73.9304</td>\n",
       "      <td>546f784b992d2ba84024f41d342cafd7</td>\n",
       "      <td>['https://photos.renthop.com/2/7067832_5443033...</td>\n",
       "      <td>1700.0</td>\n",
       "      <td>medium</td>\n",
       "    </tr>\n",
       "    <tr>\n",
       "      <th>1</th>\n",
       "      <td>3.0</td>\n",
       "      <td>3</td>\n",
       "      <td>4e026d5fd1bcd89b8d0e897bdb69a183</td>\n",
       "      <td>[2016, 4, 13]</td>\n",
       "      <td>5th Ave.</td>\n",
       "      <td>['Dining Room', 'Garden/Patio', 'Loft', 'Laund...</td>\n",
       "      <td>40.7381</td>\n",
       "      <td>6867824.0</td>\n",
       "      <td>-73.9920</td>\n",
       "      <td>ad3d8ddc52c7e0859b5c6c7f7949c3bd</td>\n",
       "      <td>['https://photos.renthop.com/2/6867824_e911226...</td>\n",
       "      <td>14000.0</td>\n",
       "      <td>low</td>\n",
       "    </tr>\n",
       "    <tr>\n",
       "      <th>2</th>\n",
       "      <td>1.0</td>\n",
       "      <td>4</td>\n",
       "      <td>7b1ccf5e646cf81dc13472ac057ef401</td>\n",
       "      <td>[2016, 4, 16]</td>\n",
       "      <td>143 Bleecker St brooklyn</td>\n",
       "      <td>[]</td>\n",
       "      <td>40.6963</td>\n",
       "      <td>6884482.0</td>\n",
       "      <td>-73.9204</td>\n",
       "      <td>a621bebe105d26cd338d4c54f35f52e6</td>\n",
       "      <td>['https://photos.renthop.com/2/6884482_61ec9a2...</td>\n",
       "      <td>3750.0</td>\n",
       "      <td>low</td>\n",
       "    </tr>\n",
       "    <tr>\n",
       "      <th>3</th>\n",
       "      <td>1.0</td>\n",
       "      <td>2</td>\n",
       "      <td>9c926bb8e5354ae22f3ebaaa3d1ee282</td>\n",
       "      <td>[2016, 4, 19]</td>\n",
       "      <td>4th Avenue</td>\n",
       "      <td>['Doorman', 'Elevator', 'Laundry in Building',...</td>\n",
       "      <td>40.7337</td>\n",
       "      <td>6894963.0</td>\n",
       "      <td>-73.9897</td>\n",
       "      <td>08abda736d77d880c4e17fbba5db3985</td>\n",
       "      <td>['https://photos.renthop.com/2/6894963_92d606e...</td>\n",
       "      <td>4450.0</td>\n",
       "      <td>medium</td>\n",
       "    </tr>\n",
       "    <tr>\n",
       "      <th>4</th>\n",
       "      <td>1.0</td>\n",
       "      <td>2</td>\n",
       "      <td>9e9fd557ea43b22412cf29dd540af043</td>\n",
       "      <td>[2016, 4, 6]</td>\n",
       "      <td>Midtown Bananza! Giant sized 1 bed - ex flex 2...</td>\n",
       "      <td>[]</td>\n",
       "      <td>40.7560</td>\n",
       "      <td>6834526.0</td>\n",
       "      <td>-73.9687</td>\n",
       "      <td>4bdc3d8c1aaa90d997ce2cb77680679b</td>\n",
       "      <td>['https://photos.renthop.com/2/6834526_4af07aa...</td>\n",
       "      <td>2800.0</td>\n",
       "      <td>low</td>\n",
       "    </tr>\n",
       "  </tbody>\n",
       "</table>\n",
       "</div>"
      ],
      "text/plain": [
       "   bathrooms bedrooms                       building_id        created  \\\n",
       "0        1.0        1  86af7d101535dd99dbffd2fe1c2af319  [2016, 5, 26]   \n",
       "1        3.0        3  4e026d5fd1bcd89b8d0e897bdb69a183  [2016, 4, 13]   \n",
       "2        1.0        4  7b1ccf5e646cf81dc13472ac057ef401  [2016, 4, 16]   \n",
       "3        1.0        2  9c926bb8e5354ae22f3ebaaa3d1ee282  [2016, 4, 19]   \n",
       "4        1.0        2  9e9fd557ea43b22412cf29dd540af043   [2016, 4, 6]   \n",
       "\n",
       "                                     display_address  \\\n",
       "0                                  Wadsworth Terrace   \n",
       "1                                           5th Ave.   \n",
       "2                          143 Bleecker St brooklyn    \n",
       "3                                         4th Avenue   \n",
       "4  Midtown Bananza! Giant sized 1 bed - ex flex 2...   \n",
       "\n",
       "                                            features  latitude  listing_id  \\\n",
       "0                                        ['Pre-War']   40.8568   7067832.0   \n",
       "1  ['Dining Room', 'Garden/Patio', 'Loft', 'Laund...   40.7381   6867824.0   \n",
       "2                                                 []   40.6963   6884482.0   \n",
       "3  ['Doorman', 'Elevator', 'Laundry in Building',...   40.7337   6894963.0   \n",
       "4                                                 []   40.7560   6834526.0   \n",
       "\n",
       "   longitude                        manager_id  \\\n",
       "0   -73.9304  546f784b992d2ba84024f41d342cafd7   \n",
       "1   -73.9920  ad3d8ddc52c7e0859b5c6c7f7949c3bd   \n",
       "2   -73.9204  a621bebe105d26cd338d4c54f35f52e6   \n",
       "3   -73.9897  08abda736d77d880c4e17fbba5db3985   \n",
       "4   -73.9687  4bdc3d8c1aaa90d997ce2cb77680679b   \n",
       "\n",
       "                                              photos    price  TARGET  \n",
       "0  ['https://photos.renthop.com/2/7067832_5443033...   1700.0  medium  \n",
       "1  ['https://photos.renthop.com/2/6867824_e911226...  14000.0     low  \n",
       "2  ['https://photos.renthop.com/2/6884482_61ec9a2...   3750.0     low  \n",
       "3  ['https://photos.renthop.com/2/6894963_92d606e...   4450.0  medium  \n",
       "4  ['https://photos.renthop.com/2/6834526_4af07aa...   2800.0     low  "
      ]
     },
     "execution_count": 116,
     "metadata": {},
     "output_type": "execute_result"
    }
   ],
   "source": [
    "df_copy.head()"
   ]
  },
  {
   "cell_type": "code",
   "execution_count": 115,
   "metadata": {
    "collapsed": false
   },
   "outputs": [
    {
     "data": {
      "text/html": [
       "<div>\n",
       "<table border=\"1\" class=\"dataframe\">\n",
       "  <thead>\n",
       "    <tr style=\"text-align: right;\">\n",
       "      <th></th>\n",
       "      <th>bathrooms</th>\n",
       "      <th>bedrooms</th>\n",
       "      <th>building_id</th>\n",
       "      <th>created</th>\n",
       "      <th>display_address</th>\n",
       "      <th>features</th>\n",
       "      <th>latitude</th>\n",
       "      <th>listing_id</th>\n",
       "      <th>longitude</th>\n",
       "      <th>manager_id</th>\n",
       "      <th>photos</th>\n",
       "      <th>price</th>\n",
       "      <th>TARGET</th>\n",
       "    </tr>\n",
       "  </thead>\n",
       "  <tbody>\n",
       "    <tr>\n",
       "      <th>0</th>\n",
       "      <td>1.0</td>\n",
       "      <td>1</td>\n",
       "      <td>86af7d101535dd99dbffd2fe1c2af319</td>\n",
       "      <td>[2016, 5, 26]</td>\n",
       "      <td>Wadsworth Terrace</td>\n",
       "      <td>['Pre-War']</td>\n",
       "      <td>40.8568</td>\n",
       "      <td>7067832.0</td>\n",
       "      <td>-73.9304</td>\n",
       "      <td>546f784b992d2ba84024f41d342cafd7</td>\n",
       "      <td>1</td>\n",
       "      <td>1700.0</td>\n",
       "      <td>medium</td>\n",
       "    </tr>\n",
       "    <tr>\n",
       "      <th>1</th>\n",
       "      <td>3.0</td>\n",
       "      <td>3</td>\n",
       "      <td>4e026d5fd1bcd89b8d0e897bdb69a183</td>\n",
       "      <td>[2016, 4, 13]</td>\n",
       "      <td>5th Ave.</td>\n",
       "      <td>['Dining Room', 'Garden/Patio', 'Loft', 'Laund...</td>\n",
       "      <td>40.7381</td>\n",
       "      <td>6867824.0</td>\n",
       "      <td>-73.9920</td>\n",
       "      <td>ad3d8ddc52c7e0859b5c6c7f7949c3bd</td>\n",
       "      <td>3</td>\n",
       "      <td>14000.0</td>\n",
       "      <td>low</td>\n",
       "    </tr>\n",
       "    <tr>\n",
       "      <th>2</th>\n",
       "      <td>1.0</td>\n",
       "      <td>4</td>\n",
       "      <td>7b1ccf5e646cf81dc13472ac057ef401</td>\n",
       "      <td>[2016, 4, 16]</td>\n",
       "      <td>143 Bleecker St brooklyn</td>\n",
       "      <td>[]</td>\n",
       "      <td>40.6963</td>\n",
       "      <td>6884482.0</td>\n",
       "      <td>-73.9204</td>\n",
       "      <td>a621bebe105d26cd338d4c54f35f52e6</td>\n",
       "      <td>1</td>\n",
       "      <td>3750.0</td>\n",
       "      <td>low</td>\n",
       "    </tr>\n",
       "    <tr>\n",
       "      <th>3</th>\n",
       "      <td>1.0</td>\n",
       "      <td>2</td>\n",
       "      <td>9c926bb8e5354ae22f3ebaaa3d1ee282</td>\n",
       "      <td>[2016, 4, 19]</td>\n",
       "      <td>4th Avenue</td>\n",
       "      <td>['Doorman', 'Elevator', 'Laundry in Building',...</td>\n",
       "      <td>40.7337</td>\n",
       "      <td>6894963.0</td>\n",
       "      <td>-73.9897</td>\n",
       "      <td>08abda736d77d880c4e17fbba5db3985</td>\n",
       "      <td>1</td>\n",
       "      <td>4450.0</td>\n",
       "      <td>medium</td>\n",
       "    </tr>\n",
       "    <tr>\n",
       "      <th>4</th>\n",
       "      <td>1.0</td>\n",
       "      <td>2</td>\n",
       "      <td>9e9fd557ea43b22412cf29dd540af043</td>\n",
       "      <td>[2016, 4, 6]</td>\n",
       "      <td>Midtown Bananza! Giant sized 1 bed - ex flex 2...</td>\n",
       "      <td>[]</td>\n",
       "      <td>40.7560</td>\n",
       "      <td>6834526.0</td>\n",
       "      <td>-73.9687</td>\n",
       "      <td>4bdc3d8c1aaa90d997ce2cb77680679b</td>\n",
       "      <td>1</td>\n",
       "      <td>2800.0</td>\n",
       "      <td>low</td>\n",
       "    </tr>\n",
       "  </tbody>\n",
       "</table>\n",
       "</div>"
      ],
      "text/plain": [
       "   bathrooms bedrooms                       building_id        created  \\\n",
       "0        1.0        1  86af7d101535dd99dbffd2fe1c2af319  [2016, 5, 26]   \n",
       "1        3.0        3  4e026d5fd1bcd89b8d0e897bdb69a183  [2016, 4, 13]   \n",
       "2        1.0        4  7b1ccf5e646cf81dc13472ac057ef401  [2016, 4, 16]   \n",
       "3        1.0        2  9c926bb8e5354ae22f3ebaaa3d1ee282  [2016, 4, 19]   \n",
       "4        1.0        2  9e9fd557ea43b22412cf29dd540af043   [2016, 4, 6]   \n",
       "\n",
       "                                     display_address  \\\n",
       "0                                  Wadsworth Terrace   \n",
       "1                                           5th Ave.   \n",
       "2                          143 Bleecker St brooklyn    \n",
       "3                                         4th Avenue   \n",
       "4  Midtown Bananza! Giant sized 1 bed - ex flex 2...   \n",
       "\n",
       "                                            features  latitude  listing_id  \\\n",
       "0                                        ['Pre-War']   40.8568   7067832.0   \n",
       "1  ['Dining Room', 'Garden/Patio', 'Loft', 'Laund...   40.7381   6867824.0   \n",
       "2                                                 []   40.6963   6884482.0   \n",
       "3  ['Doorman', 'Elevator', 'Laundry in Building',...   40.7337   6894963.0   \n",
       "4                                                 []   40.7560   6834526.0   \n",
       "\n",
       "   longitude                        manager_id photos    price  TARGET  \n",
       "0   -73.9304  546f784b992d2ba84024f41d342cafd7      1   1700.0  medium  \n",
       "1   -73.9920  ad3d8ddc52c7e0859b5c6c7f7949c3bd      3  14000.0     low  \n",
       "2   -73.9204  a621bebe105d26cd338d4c54f35f52e6      1   3750.0     low  \n",
       "3   -73.9897  08abda736d77d880c4e17fbba5db3985      1   4450.0  medium  \n",
       "4   -73.9687  4bdc3d8c1aaa90d997ce2cb77680679b      1   2800.0     low  "
      ]
     },
     "execution_count": 115,
     "metadata": {},
     "output_type": "execute_result"
    }
   ],
   "source": [
    "df.photos = df_copy\n",
    "df.head()"
   ]
  },
  {
   "cell_type": "code",
   "execution_count": 77,
   "metadata": {
    "collapsed": true
   },
   "outputs": [],
   "source": [
    "df_c = df.copy()"
   ]
  },
  {
   "cell_type": "code",
   "execution_count": 83,
   "metadata": {
    "collapsed": false
   },
   "outputs": [],
   "source": [
    "df_c.created = df_c.created.apply(lambda x: list(map(int, x)))"
   ]
  },
  {
   "cell_type": "code",
   "execution_count": 96,
   "metadata": {
    "collapsed": false
   },
   "outputs": [],
   "source": [
    "a = df_c['created'][0][2], df_c['created'][0][1], df_c['created'][0][0], 1, 1, 1"
   ]
  },
  {
   "cell_type": "code",
   "execution_count": 101,
   "metadata": {
    "collapsed": false,
    "scrolled": false
   },
   "outputs": [
    {
     "data": {
      "text/plain": [
       "3"
      ]
     },
     "execution_count": 101,
     "metadata": {},
     "output_type": "execute_result"
    }
   ],
   "source": [
    "today = datetime.datetime(df_c['created'][0][2], df_c['created'][0][1], df_c['created'][0][0])\n",
    "today.weekday()"
   ]
  },
  {
   "cell_type": "code",
   "execution_count": 109,
   "metadata": {
    "collapsed": false
   },
   "outputs": [
    {
     "data": {
      "text/plain": [
       "(2016, 5, 26)"
      ]
     },
     "execution_count": 109,
     "metadata": {},
     "output_type": "execute_result"
    }
   ],
   "source": [
    "df_c['created'][0][2], df_c['created'][0][1], df_c['created'][0][0]"
   ]
  },
  {
   "cell_type": "code",
   "execution_count": 110,
   "metadata": {
    "collapsed": false
   },
   "outputs": [
    {
     "data": {
      "text/plain": [
       "4"
      ]
     },
     "execution_count": 110,
     "metadata": {},
     "output_type": "execute_result"
    }
   ],
   "source": [
    "today = datetime.datetime(2018, 10, 12)\n",
    "today.weekday()"
   ]
  },
  {
   "cell_type": "code",
   "execution_count": 119,
   "metadata": {
    "collapsed": false,
    "scrolled": true
   },
   "outputs": [],
   "source": [
    "df_c.created = df_c.created.apply(lambda x: 1 if datetime.datetime(x[2], x[1], x[0]).weekday() in (5, 6) else 0)"
   ]
  },
  {
   "cell_type": "code",
   "execution_count": 120,
   "metadata": {
    "collapsed": false,
    "scrolled": true
   },
   "outputs": [
    {
     "data": {
      "text/html": [
       "<div>\n",
       "<table border=\"1\" class=\"dataframe\">\n",
       "  <thead>\n",
       "    <tr style=\"text-align: right;\">\n",
       "      <th></th>\n",
       "      <th>bathrooms</th>\n",
       "      <th>bedrooms</th>\n",
       "      <th>building_id</th>\n",
       "      <th>created</th>\n",
       "      <th>display_address</th>\n",
       "      <th>features</th>\n",
       "      <th>latitude</th>\n",
       "      <th>listing_id</th>\n",
       "      <th>longitude</th>\n",
       "      <th>manager_id</th>\n",
       "      <th>photos</th>\n",
       "      <th>price</th>\n",
       "      <th>TARGET</th>\n",
       "    </tr>\n",
       "  </thead>\n",
       "  <tbody>\n",
       "    <tr>\n",
       "      <th>0</th>\n",
       "      <td>1.0</td>\n",
       "      <td>1</td>\n",
       "      <td>86af7d101535dd99dbffd2fe1c2af319</td>\n",
       "      <td>0</td>\n",
       "      <td>Wadsworth Terrace</td>\n",
       "      <td>11</td>\n",
       "      <td>40.8568</td>\n",
       "      <td>7067832.0</td>\n",
       "      <td>-73.9304</td>\n",
       "      <td>546f784b992d2ba84024f41d342cafd7</td>\n",
       "      <td>3</td>\n",
       "      <td>1700.0</td>\n",
       "      <td>medium</td>\n",
       "    </tr>\n",
       "    <tr>\n",
       "      <th>1</th>\n",
       "      <td>3.0</td>\n",
       "      <td>3</td>\n",
       "      <td>4e026d5fd1bcd89b8d0e897bdb69a183</td>\n",
       "      <td>0</td>\n",
       "      <td>5th Ave.</td>\n",
       "      <td>101</td>\n",
       "      <td>40.7381</td>\n",
       "      <td>6867824.0</td>\n",
       "      <td>-73.992</td>\n",
       "      <td>ad3d8ddc52c7e0859b5c6c7f7949c3bd</td>\n",
       "      <td>6</td>\n",
       "      <td>14000.0</td>\n",
       "      <td>low</td>\n",
       "    </tr>\n",
       "    <tr>\n",
       "      <th>2</th>\n",
       "      <td>1.0</td>\n",
       "      <td>4</td>\n",
       "      <td>7b1ccf5e646cf81dc13472ac057ef401</td>\n",
       "      <td>1</td>\n",
       "      <td>143 Bleecker St brooklyn</td>\n",
       "      <td>2</td>\n",
       "      <td>40.6963</td>\n",
       "      <td>6884482.0</td>\n",
       "      <td>-73.9204</td>\n",
       "      <td>a621bebe105d26cd338d4c54f35f52e6</td>\n",
       "      <td>12</td>\n",
       "      <td>3750.0</td>\n",
       "      <td>low</td>\n",
       "    </tr>\n",
       "    <tr>\n",
       "      <th>3</th>\n",
       "      <td>1.0</td>\n",
       "      <td>2</td>\n",
       "      <td>9c926bb8e5354ae22f3ebaaa3d1ee282</td>\n",
       "      <td>0</td>\n",
       "      <td>4th Avenue</td>\n",
       "      <td>89</td>\n",
       "      <td>40.7337</td>\n",
       "      <td>6894963.0</td>\n",
       "      <td>-73.9897</td>\n",
       "      <td>08abda736d77d880c4e17fbba5db3985</td>\n",
       "      <td>8</td>\n",
       "      <td>4450.0</td>\n",
       "      <td>medium</td>\n",
       "    </tr>\n",
       "    <tr>\n",
       "      <th>4</th>\n",
       "      <td>1.0</td>\n",
       "      <td>2</td>\n",
       "      <td>9e9fd557ea43b22412cf29dd540af043</td>\n",
       "      <td>0</td>\n",
       "      <td>Midtown Bananza! Giant sized 1 bed - ex flex 2...</td>\n",
       "      <td>2</td>\n",
       "      <td>40.756</td>\n",
       "      <td>6834526.0</td>\n",
       "      <td>-73.9687</td>\n",
       "      <td>4bdc3d8c1aaa90d997ce2cb77680679b</td>\n",
       "      <td>8</td>\n",
       "      <td>2800.0</td>\n",
       "      <td>low</td>\n",
       "    </tr>\n",
       "  </tbody>\n",
       "</table>\n",
       "</div>"
      ],
      "text/plain": [
       "   bathrooms bedrooms                       building_id  created  \\\n",
       "0        1.0        1  86af7d101535dd99dbffd2fe1c2af319        0   \n",
       "1        3.0        3  4e026d5fd1bcd89b8d0e897bdb69a183        0   \n",
       "2        1.0        4  7b1ccf5e646cf81dc13472ac057ef401        1   \n",
       "3        1.0        2  9c926bb8e5354ae22f3ebaaa3d1ee282        0   \n",
       "4        1.0        2  9e9fd557ea43b22412cf29dd540af043        0   \n",
       "\n",
       "                                     display_address  features latitude  \\\n",
       "0                                  Wadsworth Terrace        11  40.8568   \n",
       "1                                           5th Ave.       101  40.7381   \n",
       "2                          143 Bleecker St brooklyn          2  40.6963   \n",
       "3                                         4th Avenue        89  40.7337   \n",
       "4  Midtown Bananza! Giant sized 1 bed - ex flex 2...         2   40.756   \n",
       "\n",
       "   listing_id longitude                        manager_id  photos    price  \\\n",
       "0   7067832.0  -73.9304  546f784b992d2ba84024f41d342cafd7       3   1700.0   \n",
       "1   6867824.0   -73.992  ad3d8ddc52c7e0859b5c6c7f7949c3bd       6  14000.0   \n",
       "2   6884482.0  -73.9204  a621bebe105d26cd338d4c54f35f52e6      12   3750.0   \n",
       "3   6894963.0  -73.9897  08abda736d77d880c4e17fbba5db3985       8   4450.0   \n",
       "4   6834526.0  -73.9687  4bdc3d8c1aaa90d997ce2cb77680679b       8   2800.0   \n",
       "\n",
       "   TARGET  \n",
       "0  medium  \n",
       "1     low  \n",
       "2     low  \n",
       "3  medium  \n",
       "4     low  "
      ]
     },
     "execution_count": 120,
     "metadata": {},
     "output_type": "execute_result"
    }
   ],
   "source": [
    "df_c.head()"
   ]
  },
  {
   "cell_type": "code",
   "execution_count": null,
   "metadata": {
    "collapsed": true
   },
   "outputs": [],
   "source": [
    "from mlxtend.feature_selection import SequentialFeatureSelector"
   ]
  },
  {
   "cell_type": "code",
   "execution_count": 121,
   "metadata": {
    "collapsed": false
   },
   "outputs": [
    {
     "data": {
      "text/html": [
       "<div>\n",
       "<table border=\"1\" class=\"dataframe\">\n",
       "  <thead>\n",
       "    <tr style=\"text-align: right;\">\n",
       "      <th></th>\n",
       "      <th>bathrooms</th>\n",
       "      <th>bedrooms</th>\n",
       "      <th>building_id</th>\n",
       "      <th>created</th>\n",
       "      <th>display_address</th>\n",
       "      <th>features</th>\n",
       "      <th>latitude</th>\n",
       "      <th>listing_id</th>\n",
       "      <th>longitude</th>\n",
       "      <th>manager_id</th>\n",
       "      <th>photos</th>\n",
       "      <th>price</th>\n",
       "      <th>TARGET</th>\n",
       "    </tr>\n",
       "  </thead>\n",
       "  <tbody>\n",
       "    <tr>\n",
       "      <th>0</th>\n",
       "      <td>1.0</td>\n",
       "      <td>1</td>\n",
       "      <td>86af7d101535dd99dbffd2fe1c2af319</td>\n",
       "      <td>0</td>\n",
       "      <td>Wadsworth Terrace</td>\n",
       "      <td>11</td>\n",
       "      <td>40.8568</td>\n",
       "      <td>7067832.0</td>\n",
       "      <td>-73.9304</td>\n",
       "      <td>546f784b992d2ba84024f41d342cafd7</td>\n",
       "      <td>3</td>\n",
       "      <td>1700.0</td>\n",
       "      <td>medium</td>\n",
       "    </tr>\n",
       "    <tr>\n",
       "      <th>1</th>\n",
       "      <td>3.0</td>\n",
       "      <td>3</td>\n",
       "      <td>4e026d5fd1bcd89b8d0e897bdb69a183</td>\n",
       "      <td>0</td>\n",
       "      <td>5th Ave.</td>\n",
       "      <td>101</td>\n",
       "      <td>40.7381</td>\n",
       "      <td>6867824.0</td>\n",
       "      <td>-73.992</td>\n",
       "      <td>ad3d8ddc52c7e0859b5c6c7f7949c3bd</td>\n",
       "      <td>6</td>\n",
       "      <td>14000.0</td>\n",
       "      <td>low</td>\n",
       "    </tr>\n",
       "    <tr>\n",
       "      <th>2</th>\n",
       "      <td>1.0</td>\n",
       "      <td>4</td>\n",
       "      <td>7b1ccf5e646cf81dc13472ac057ef401</td>\n",
       "      <td>1</td>\n",
       "      <td>143 Bleecker St brooklyn</td>\n",
       "      <td>2</td>\n",
       "      <td>40.6963</td>\n",
       "      <td>6884482.0</td>\n",
       "      <td>-73.9204</td>\n",
       "      <td>a621bebe105d26cd338d4c54f35f52e6</td>\n",
       "      <td>12</td>\n",
       "      <td>3750.0</td>\n",
       "      <td>low</td>\n",
       "    </tr>\n",
       "    <tr>\n",
       "      <th>3</th>\n",
       "      <td>1.0</td>\n",
       "      <td>2</td>\n",
       "      <td>9c926bb8e5354ae22f3ebaaa3d1ee282</td>\n",
       "      <td>0</td>\n",
       "      <td>4th Avenue</td>\n",
       "      <td>89</td>\n",
       "      <td>40.7337</td>\n",
       "      <td>6894963.0</td>\n",
       "      <td>-73.9897</td>\n",
       "      <td>08abda736d77d880c4e17fbba5db3985</td>\n",
       "      <td>8</td>\n",
       "      <td>4450.0</td>\n",
       "      <td>medium</td>\n",
       "    </tr>\n",
       "    <tr>\n",
       "      <th>4</th>\n",
       "      <td>1.0</td>\n",
       "      <td>2</td>\n",
       "      <td>9e9fd557ea43b22412cf29dd540af043</td>\n",
       "      <td>0</td>\n",
       "      <td>Midtown Bananza! Giant sized 1 bed - ex flex 2...</td>\n",
       "      <td>2</td>\n",
       "      <td>40.756</td>\n",
       "      <td>6834526.0</td>\n",
       "      <td>-73.9687</td>\n",
       "      <td>4bdc3d8c1aaa90d997ce2cb77680679b</td>\n",
       "      <td>8</td>\n",
       "      <td>2800.0</td>\n",
       "      <td>low</td>\n",
       "    </tr>\n",
       "  </tbody>\n",
       "</table>\n",
       "</div>"
      ],
      "text/plain": [
       "   bathrooms bedrooms                       building_id  created  \\\n",
       "0        1.0        1  86af7d101535dd99dbffd2fe1c2af319        0   \n",
       "1        3.0        3  4e026d5fd1bcd89b8d0e897bdb69a183        0   \n",
       "2        1.0        4  7b1ccf5e646cf81dc13472ac057ef401        1   \n",
       "3        1.0        2  9c926bb8e5354ae22f3ebaaa3d1ee282        0   \n",
       "4        1.0        2  9e9fd557ea43b22412cf29dd540af043        0   \n",
       "\n",
       "                                     display_address  features latitude  \\\n",
       "0                                  Wadsworth Terrace        11  40.8568   \n",
       "1                                           5th Ave.       101  40.7381   \n",
       "2                          143 Bleecker St brooklyn          2  40.6963   \n",
       "3                                         4th Avenue        89  40.7337   \n",
       "4  Midtown Bananza! Giant sized 1 bed - ex flex 2...         2   40.756   \n",
       "\n",
       "   listing_id longitude                        manager_id  photos    price  \\\n",
       "0   7067832.0  -73.9304  546f784b992d2ba84024f41d342cafd7       3   1700.0   \n",
       "1   6867824.0   -73.992  ad3d8ddc52c7e0859b5c6c7f7949c3bd       6  14000.0   \n",
       "2   6884482.0  -73.9204  a621bebe105d26cd338d4c54f35f52e6      12   3750.0   \n",
       "3   6894963.0  -73.9897  08abda736d77d880c4e17fbba5db3985       8   4450.0   \n",
       "4   6834526.0  -73.9687  4bdc3d8c1aaa90d997ce2cb77680679b       8   2800.0   \n",
       "\n",
       "   TARGET  \n",
       "0  medium  \n",
       "1     low  \n",
       "2     low  \n",
       "3  medium  \n",
       "4     low  "
      ]
     },
     "execution_count": 121,
     "metadata": {},
     "output_type": "execute_result"
    }
   ],
   "source": [
    "df_c.head()"
   ]
  },
  {
   "cell_type": "code",
   "execution_count": 122,
   "metadata": {
    "collapsed": false
   },
   "outputs": [
    {
     "data": {
      "text/plain": [
       "Index(['bathrooms', 'bedrooms', 'building_id', 'created', 'display_address',\n",
       "       'features', 'latitude', 'listing_id', 'longitude', 'manager_id',\n",
       "       'photos', 'price', 'TARGET'],\n",
       "      dtype='object')"
      ]
     },
     "execution_count": 122,
     "metadata": {},
     "output_type": "execute_result"
    }
   ],
   "source": [
    "df_c.columns"
   ]
  },
  {
   "cell_type": "code",
   "execution_count": 123,
   "metadata": {
    "collapsed": true
   },
   "outputs": [],
   "source": [
    "l = ['bathrooms', 'bedrooms', 'created', 'features', 'photos', 'price', 'TARGET']"
   ]
  },
  {
   "cell_type": "code",
   "execution_count": 135,
   "metadata": {
    "collapsed": false
   },
   "outputs": [
    {
     "name": "stderr",
     "output_type": "stream",
     "text": [
      "/home/andrew/anaconda3/lib/python3.5/site-packages/ipykernel/__main__.py:3: SettingWithCopyWarning: \n",
      "A value is trying to be set on a copy of a slice from a DataFrame.\n",
      "Try using .loc[row_indexer,col_indexer] = value instead\n",
      "\n",
      "See the caveats in the documentation: http://pandas.pydata.org/pandas-docs/stable/indexing.html#indexing-view-versus-copy\n",
      "  app.launch_new_instance()\n"
     ]
    }
   ],
   "source": [
    "df_for_reg = df_c[l]\n",
    "df_for_reg.head()\n",
    "df_for_reg['TARGET'] = df_for_reg['TARGET'].map({'low':0, 'medium':1, 'high':2})"
   ]
  },
  {
   "cell_type": "code",
   "execution_count": 88,
   "metadata": {
    "collapsed": false
   },
   "outputs": [],
   "source": [
    "from sklearn.model_selection import train_test_split"
   ]
  },
  {
   "cell_type": "code",
   "execution_count": 166,
   "metadata": {
    "collapsed": false
   },
   "outputs": [],
   "source": [
    "y = df_for_reg['TARGET']\n",
    "X = df_for_reg[['bathrooms', 'bedrooms', 'created', 'features', 'photos', 'price']]\n",
    "train_X, val_X, train_y, val_y = train_test_split(X, y, random_state = 3)\n",
    "\n",
    "from sklearn.tree import DecisionTreeRegressor\n",
    "\n",
    "model = DecisionTreeRegressor(random_state=1, max_leaf_nodes=100000)"
   ]
  },
  {
   "cell_type": "code",
   "execution_count": 167,
   "metadata": {
    "collapsed": false
   },
   "outputs": [
    {
     "data": {
      "text/plain": [
       "26577"
      ]
     },
     "execution_count": 167,
     "metadata": {},
     "output_type": "execute_result"
    }
   ],
   "source": [
    "model.fit(train_X, train_y)\n",
    "(model.predict(train_X)==train_y).sum()"
   ]
  },
  {
   "cell_type": "code",
   "execution_count": 118,
   "metadata": {
    "collapsed": false
   },
   "outputs": [],
   "source": [
    "df_test = (pd.read_csv('test.csv'))"
   ]
  },
  {
   "cell_type": "code",
   "execution_count": 182,
   "metadata": {
    "collapsed": false,
    "scrolled": true
   },
   "outputs": [
    {
     "name": "stdout",
     "output_type": "stream",
     "text": [
      "bathrooms 0\n",
      "bedrooms 0\n",
      "building_id 0\n",
      "created 0\n",
      "display_address 0\n",
      "features 0\n",
      "latitude 15\n",
      "listing_id 0\n",
      "longitude 0\n",
      "manager_id 0\n",
      "photos 0\n",
      "price 0\n"
     ]
    }
   ],
   "source": [
    "for col in df_test.columns:\n",
    "    print(col, df_test[col].isnull().sum())"
   ]
  },
  {
   "cell_type": "code",
   "execution_count": 181,
   "metadata": {
    "collapsed": false
   },
   "outputs": [],
   "source": [
    "df_test.photos = df_test.photos.fillna(value='[]')"
   ]
  },
  {
   "cell_type": "code",
   "execution_count": 187,
   "metadata": {
    "collapsed": true
   },
   "outputs": [],
   "source": [
    "def feature(x):\n",
    "    return x.count(\"'\")/2"
   ]
  },
  {
   "cell_type": "code",
   "execution_count": 195,
   "metadata": {
    "collapsed": true
   },
   "outputs": [],
   "source": [
    "mean_lat, mean_lon = df.latitude.mean(), df.longitude.mean()"
   ]
  },
  {
   "cell_type": "code",
   "execution_count": 2,
   "metadata": {
    "collapsed": false
   },
   "outputs": [
    {
     "ename": "NameError",
     "evalue": "name 'pd' is not defined",
     "output_type": "error",
     "traceback": [
      "\u001b[0;31m---------------------------------------------------------------------------\u001b[0m",
      "\u001b[0;31mNameError\u001b[0m                                 Traceback (most recent call last)",
      "\u001b[0;32m<ipython-input-2-2d7937d456e9>\u001b[0m in \u001b[0;36m<module>\u001b[0;34m()\u001b[0m\n\u001b[0;32m----> 1\u001b[0;31m \u001b[0mdf_test_mean_lat\u001b[0m \u001b[0;34m=\u001b[0m \u001b[0mpd\u001b[0m\u001b[0;34m.\u001b[0m\u001b[0mSeries\u001b[0m\u001b[0;34m(\u001b[0m\u001b[0;34m[\u001b[0m\u001b[0mmean_lat\u001b[0m\u001b[0;34m]\u001b[0m\u001b[0;34m*\u001b[0m\u001b[0mlen\u001b[0m\u001b[0;34m(\u001b[0m\u001b[0mdf_test\u001b[0m\u001b[0;34m)\u001b[0m\u001b[0;34m)\u001b[0m\u001b[0;34m\u001b[0m\u001b[0m\n\u001b[0m\u001b[1;32m      2\u001b[0m \u001b[0mdf_test_mean_lon\u001b[0m \u001b[0;34m=\u001b[0m \u001b[0mpd\u001b[0m\u001b[0;34m.\u001b[0m\u001b[0mSeries\u001b[0m\u001b[0;34m(\u001b[0m\u001b[0;34m[\u001b[0m\u001b[0mmean_lon\u001b[0m\u001b[0;34m]\u001b[0m\u001b[0;34m*\u001b[0m\u001b[0mlen\u001b[0m\u001b[0;34m(\u001b[0m\u001b[0mdf_test\u001b[0m\u001b[0;34m)\u001b[0m\u001b[0;34m)\u001b[0m\u001b[0;34m\u001b[0m\u001b[0m\n",
      "\u001b[0;31mNameError\u001b[0m: name 'pd' is not defined"
     ]
    }
   ],
   "source": [
    "df_test_mean_lat = pd.Series([mean_lat]*len(df_test))\n",
    "df_test_mean_lon = pd.Series([mean_lon]*len(df_test))"
   ]
  },
  {
   "cell_type": "code",
   "execution_count": 1,
   "metadata": {
    "collapsed": false
   },
   "outputs": [
    {
     "ename": "NameError",
     "evalue": "name 'df_test_mean_lat' is not defined",
     "output_type": "error",
     "traceback": [
      "\u001b[0;31m---------------------------------------------------------------------------\u001b[0m",
      "\u001b[0;31mNameError\u001b[0m                                 Traceback (most recent call last)",
      "\u001b[0;32m<ipython-input-1-48486e5e18b2>\u001b[0m in \u001b[0;36m<module>\u001b[0;34m()\u001b[0m\n\u001b[0;32m----> 1\u001b[0;31m \u001b[0mdf_test_dist\u001b[0m \u001b[0;34m=\u001b[0m \u001b[0;34m(\u001b[0m\u001b[0mdf_test_mean_lat\u001b[0m \u001b[0;34m-\u001b[0m \u001b[0mdf_test\u001b[0m\u001b[0;34m.\u001b[0m\u001b[0mlatitude\u001b[0m\u001b[0;34m)\u001b[0m\u001b[0;34m**\u001b[0m\u001b[0;36m2\u001b[0m \u001b[0;34m+\u001b[0m \u001b[0;34m(\u001b[0m\u001b[0mdf_test_mean_lon\u001b[0m \u001b[0;34m-\u001b[0m \u001b[0mdf_test\u001b[0m\u001b[0;34m.\u001b[0m\u001b[0mlongitude\u001b[0m\u001b[0;34m)\u001b[0m\u001b[0;34m**\u001b[0m\u001b[0;36m2\u001b[0m\u001b[0;34m\u001b[0m\u001b[0m\n\u001b[0m",
      "\u001b[0;31mNameError\u001b[0m: name 'df_test_mean_lat' is not defined"
     ]
    }
   ],
   "source": [
    "df_test_dist = (df_test_mean_lat - df_test.latitude)**2 + (df_test_mean_lon - df_test.longitude)**2"
   ]
  },
  {
   "cell_type": "code",
   "execution_count": null,
   "metadata": {
    "collapsed": true
   },
   "outputs": [],
   "source": []
  },
  {
   "cell_type": "code",
   "execution_count": null,
   "metadata": {
    "collapsed": true
   },
   "outputs": [],
   "source": []
  },
  {
   "cell_type": "code",
   "execution_count": null,
   "metadata": {
    "collapsed": true
   },
   "outputs": [],
   "source": []
  },
  {
   "cell_type": "code",
   "execution_count": null,
   "metadata": {
    "collapsed": true
   },
   "outputs": [],
   "source": []
  },
  {
   "cell_type": "code",
   "execution_count": null,
   "metadata": {
    "collapsed": true
   },
   "outputs": [],
   "source": []
  },
  {
   "cell_type": "code",
   "execution_count": null,
   "metadata": {
    "collapsed": true
   },
   "outputs": [],
   "source": []
  },
  {
   "cell_type": "code",
   "execution_count": null,
   "metadata": {
    "collapsed": true
   },
   "outputs": [],
   "source": []
  }
 ],
 "metadata": {
  "anaconda-cloud": {},
  "kernelspec": {
   "display_name": "Python [default]",
   "language": "python",
   "name": "python3"
  },
  "language_info": {
   "codemirror_mode": {
    "name": "ipython",
    "version": 3
   },
   "file_extension": ".py",
   "mimetype": "text/x-python",
   "name": "python",
   "nbconvert_exporter": "python",
   "pygments_lexer": "ipython3",
   "version": "3.5.2"
  }
 },
 "nbformat": 4,
 "nbformat_minor": 1
}
